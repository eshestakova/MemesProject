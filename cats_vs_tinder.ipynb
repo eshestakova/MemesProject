{
 "cells": [
  {
   "cell_type": "code",
   "execution_count": 2,
   "metadata": {},
   "outputs": [],
   "source": [
    "#create MS-Excel table with names of cat pics, so Matt could write there text from these\n",
    "\n",
    "import xlwt\n",
    "\n",
    "names = os.listdir(\"./memes/cat/\")\n",
    "\n",
    "wb = xlwt.Workbook()\n",
    "ws = wb.add_sheet('pictures')\n",
    "\n",
    "i = 1\n",
    "for name in names:\n",
    "    ws.write(i,0,name)\n",
    "    i += 1\n",
    "\n",
    "wb.save('test.xls')\n"
   ]
  },
  {
   "cell_type": "code",
   "execution_count": 1,
   "metadata": {},
   "outputs": [],
   "source": [
    "from scipy.misc import imrotate\n",
    "from skimage.transform import resize\n",
    "from imageio import imread\n",
    "import matplotlib.pyplot as plt\n",
    "%matplotlib inline\n",
    "import os\n",
    "import numpy as np\n",
    "from sklearn.utils import shuffle\n",
    "import tqdm\n"
   ]
  },
  {
   "cell_type": "code",
   "execution_count": 2,
   "metadata": {},
   "outputs": [],
   "source": [
    "#read images from folder\n",
    "\n",
    "def make_images(data_dir):\n",
    "    img_names = os.listdir(data_dir)\n",
    "    img_paths = list(map(lambda fname: os.path.join(data_dir,fname),img_names))\n",
    "    img = imread(img_paths[100])\n",
    "    \n",
    "    standard_size = (200,200)\n",
    "\n",
    "    resized_images = []\n",
    "    for i in range(len(img_names)) :\n",
    "        resized_images.append(resize(imread(img_paths[i]), standard_size))\n",
    "\n",
    "    resized_images = np.array(resized_images)\n",
    "    \n",
    "    sh = resized_images.shape\n",
    "    print (sh[0], \" images \", sh[1], \"x\", sh[2], \"rgb(\", sh[3], \")\")\n",
    "    return resized_images"
   ]
  },
  {
   "cell_type": "code",
   "execution_count": 3,
   "metadata": {
    "scrolled": true
   },
   "outputs": [
    {
     "name": "stderr",
     "output_type": "stream",
     "text": [
      "C:\\Program Files (x86)\\Microsoft Visual Studio\\Shared\\Python36_64\\lib\\site-packages\\skimage\\transform\\_warps.py:105: UserWarning: The default mode, 'constant', will be changed to 'reflect' in skimage 0.15.\n",
      "  warn(\"The default mode, 'constant', will be changed to 'reflect' in \"\n",
      "C:\\Program Files (x86)\\Microsoft Visual Studio\\Shared\\Python36_64\\lib\\site-packages\\skimage\\transform\\_warps.py:110: UserWarning: Anti-aliasing will be enabled by default in skimage 0.15 to avoid aliasing artifacts when down-sampling images.\n",
      "  warn(\"Anti-aliasing will be enabled by default in skimage 0.15 to \"\n"
     ]
    },
    {
     "name": "stdout",
     "output_type": "stream",
     "text": [
      "829  images  200 x 200 rgb( 3 )\n",
      "435  images  200 x 200 rgb( 3 )\n"
     ]
    }
   ],
   "source": [
    "X_cats = make_images(\"./memes/cat/\")\n",
    "X_tind = make_images(\"./memes/tinder/\")"
   ]
  },
  {
   "cell_type": "code",
   "execution_count": 4,
   "metadata": {},
   "outputs": [
    {
     "name": "stdout",
     "output_type": "stream",
     "text": [
      "(829,) (435,)\n"
     ]
    }
   ],
   "source": [
    "Y_cats = np.zeros(X_cats.shape[0])\n",
    "Y_tind = np.ones(X_tind.shape[0])\n",
    "print(Y_cats.shape, Y_tind.shape)"
   ]
  },
  {
   "cell_type": "code",
   "execution_count": 5,
   "metadata": {},
   "outputs": [
    {
     "name": "stdout",
     "output_type": "stream",
     "text": [
      "(1264, 200, 200, 3) (1264,)\n"
     ]
    }
   ],
   "source": [
    "X = np.concatenate((X_cats, X_tind))\n",
    "Y = np.concatenate((Y_cats, Y_tind))\n",
    "print(X.shape, Y.shape)"
   ]
  },
  {
   "cell_type": "code",
   "execution_count": 6,
   "metadata": {
    "scrolled": false
   },
   "outputs": [
    {
     "name": "stderr",
     "output_type": "stream",
     "text": [
      "100%|██████████████████████████████████████████████████████████████████████████████| 1264/1264 [02:33<00:00,  8.24it/s]\n"
     ]
    }
   ],
   "source": [
    "X1 = []\n",
    "i = 0\n",
    "for image in tqdm.tqdm(X):\n",
    "    X1.append([])\n",
    "    for row in image:\n",
    "        for col in row:\n",
    "            X1[i].append(col[0])\n",
    "            X1[i].append(col[1])\n",
    "            X1[i].append(col[2])\n",
    "    i += 1\n",
    "             \n",
    "X = np.array(X1)"
   ]
  },
  {
   "cell_type": "code",
   "execution_count": 7,
   "metadata": {},
   "outputs": [
    {
     "data": {
      "text/plain": [
       "((1264, 120000), (1264,))"
      ]
     },
     "execution_count": 7,
     "metadata": {},
     "output_type": "execute_result"
    }
   ],
   "source": [
    "X.shape, Y.shape"
   ]
  },
  {
   "cell_type": "code",
   "execution_count": 9,
   "metadata": {},
   "outputs": [],
   "source": [
    "from sklearn.model_selection import train_test_split\n",
    "\n",
    "np.random.seed(len(X))\n",
    "X_train, X_test, Y_train, Y_test = train_test_split(X, Y, test_size=0.2)"
   ]
  },
  {
   "cell_type": "code",
   "execution_count": 10,
   "metadata": {},
   "outputs": [
    {
     "data": {
      "text/plain": [
       "((1011, 120000), (1011,), (253, 120000), (253,))"
      ]
     },
     "execution_count": 10,
     "metadata": {},
     "output_type": "execute_result"
    }
   ],
   "source": [
    "X_train.shape, Y_train.shape, X_test.shape, Y_test.shape"
   ]
  },
  {
   "cell_type": "code",
   "execution_count": 12,
   "metadata": {},
   "outputs": [],
   "source": [
    "from sklearn.ensemble import BaggingClassifier, ExtraTreesClassifier, GradientBoostingClassifier\n",
    "\n",
    "bag = BaggingClassifier().fit(X_train,Y_train)\n",
    "#ext = ExtraTreesClassifier().fit(X_train,Y_train)\n",
    "#grb = GradientBoostingClassifier().fit(X_train,Y_train)\n",
    "\n",
    "y_bag = bag.predict(X_test)\n",
    "#y_ext = ext.predict(X_test)\n",
    "#y_grb = grb.predict(X_test)"
   ]
  },
  {
   "cell_type": "code",
   "execution_count": 15,
   "metadata": {},
   "outputs": [
    {
     "name": "stdout",
     "output_type": "stream",
     "text": [
      "accuracy 0.9525691699604744\n",
      "roc auc  0.9457736877982277\n"
     ]
    }
   ],
   "source": [
    "from sklearn.metrics import accuracy_score, roc_auc_score\n",
    "\n",
    "print(\"accuracy\", accuracy_score(Y_test, y_bag))\n",
    "print(\"roc auc \", roc_auc_score(Y_test, y_bag))\n",
    "\n",
    "#print(\"ex tree: accuracy\", accuracy_score(Y, y_ext))\n",
    "#print(\"grboost: accuracy\", accuracy_score(Y, y_grb))"
   ]
  },
  {
   "cell_type": "code",
   "execution_count": 16,
   "metadata": {},
   "outputs": [
    {
     "name": "stderr",
     "output_type": "stream",
     "text": [
      "C:\\Program Files (x86)\\Microsoft Visual Studio\\Shared\\Python36_64\\lib\\site-packages\\sklearn\\ensemble\\forest.py:246: FutureWarning: The default value of n_estimators will change from 10 in version 0.20 to 100 in 0.22.\n",
      "  \"10 in version 0.20 to 100 in 0.22.\", FutureWarning)\n"
     ]
    }
   ],
   "source": [
    "ext = ExtraTreesClassifier().fit(X_train,Y_train)\n",
    "#grb = GradientBoostingClassifier().fit(X_train,Y_train)\n",
    "\n",
    "y_ext = ext.predict(X_test)\n",
    "#y_grb = grb.predict(X_test)"
   ]
  },
  {
   "cell_type": "code",
   "execution_count": 18,
   "metadata": {},
   "outputs": [
    {
     "name": "stdout",
     "output_type": "stream",
     "text": [
      "accuracy 0.9723320158102767\n",
      "roc auc  0.96359918200409\n"
     ]
    }
   ],
   "source": [
    "\n",
    "print(\"accuracy\", accuracy_score(Y_test, y_ext))\n",
    "print(\"roc auc \", roc_auc_score(Y_test, y_ext))"
   ]
  },
  {
   "cell_type": "code",
   "execution_count": null,
   "metadata": {},
   "outputs": [],
   "source": []
  },
  {
   "cell_type": "code",
   "execution_count": null,
   "metadata": {},
   "outputs": [],
   "source": []
  },
  {
   "cell_type": "code",
   "execution_count": null,
   "metadata": {},
   "outputs": [],
   "source": []
  },
  {
   "cell_type": "code",
   "execution_count": 19,
   "metadata": {},
   "outputs": [],
   "source": [
    "grb = GradientBoostingClassifier().fit(X_train,Y_train)\n",
    "\n",
    "y_grb = grb.predict(X_test)"
   ]
  },
  {
   "cell_type": "code",
   "execution_count": 20,
   "metadata": {},
   "outputs": [
    {
     "name": "stdout",
     "output_type": "stream",
     "text": [
      "accuracy 0.9802371541501976\n",
      "roc auc  0.9796864349011588\n"
     ]
    }
   ],
   "source": [
    "print(\"accuracy\", accuracy_score(Y_test, y_grb))\n",
    "print(\"roc auc \", roc_auc_score(Y_test, y_grb))"
   ]
  },
  {
   "cell_type": "code",
   "execution_count": null,
   "metadata": {},
   "outputs": [],
   "source": []
  }
 ],
 "metadata": {
  "kernelspec": {
   "display_name": "Python 3",
   "language": "python",
   "name": "python3"
  },
  "language_info": {
   "codemirror_mode": {
    "name": "ipython",
    "version": 3
   },
   "file_extension": ".py",
   "mimetype": "text/x-python",
   "name": "python",
   "nbconvert_exporter": "python",
   "pygments_lexer": "ipython3",
   "version": "3.6.6"
  }
 },
 "nbformat": 4,
 "nbformat_minor": 2
}
