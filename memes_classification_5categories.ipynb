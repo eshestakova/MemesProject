{
 "cells": [
  {
   "cell_type": "code",
   "execution_count": null,
   "metadata": {},
   "outputs": [],
   "source": [
    "from scipy.misc import imrotate\n",
    "from skimage.transform import resize\n",
    "from imageio import imread\n",
    "import matplotlib.pyplot as plt\n",
    "%matplotlib inline\n",
    "import os\n",
    "import numpy as np\n",
    "from sklearn.utils import shuffle\n",
    "import tqdm\n"
   ]
  },
  {
   "cell_type": "code",
   "execution_count": 3,
   "metadata": {},
   "outputs": [],
   "source": [
    "#read images from folder\n",
    "\n",
    "def make_images(data_dir):\n",
    "    img_names = os.listdir(data_dir)\n",
    "    img_paths = list(map(lambda fname: os.path.join(data_dir,fname),img_names))\n",
    "    img = imread(img_paths[100])\n",
    "    \n",
    "    standard_size = (200,200)\n",
    "\n",
    "    resized_images = []\n",
    "    num = len(img_names)\n",
    "    if num > 1000:\n",
    "        num = 1000\n",
    "    for i in range(num) :\n",
    "        resized_images.append(resize(imread(img_paths[i]), standard_size))\n",
    "\n",
    "    resized_images = np.array(resized_images)\n",
    "    \n",
    "    sh = resized_images.shape\n",
    "    print (sh[0], \" images \", sh[1], \"x\", sh[2], \"rgb(\", sh[3], \")\")\n",
    "    return resized_images"
   ]
  },
  {
   "cell_type": "code",
   "execution_count": 4,
   "metadata": {
    "scrolled": true
   },
   "outputs": [
    {
     "name": "stderr",
     "output_type": "stream",
     "text": [
      "C:\\Users\\annah\\Anaconda3\\lib\\site-packages\\skimage\\transform\\_warps.py:105: UserWarning: The default mode, 'constant', will be changed to 'reflect' in skimage 0.15.\n",
      "  warn(\"The default mode, 'constant', will be changed to 'reflect' in \"\n",
      "C:\\Users\\annah\\Anaconda3\\lib\\site-packages\\skimage\\transform\\_warps.py:110: UserWarning: Anti-aliasing will be enabled by default in skimage 0.15 to avoid aliasing artifacts when down-sampling images.\n",
      "  warn(\"Anti-aliasing will be enabled by default in skimage 0.15 to \"\n"
     ]
    },
    {
     "name": "stdout",
     "output_type": "stream",
     "text": [
      "829  images  200 x 200 rgb( 3 )\n",
      "435  images  200 x 200 rgb( 3 )\n",
      "334  images  200 x 200 rgb( 3 )\n",
      "723  images  200 x 200 rgb( 3 )\n",
      "1000  images  200 x 200 rgb( 3 )\n"
     ]
    }
   ],
   "source": [
    "X_cats = make_images(\"./memes/cat/\")\n",
    "X_tind = make_images(\"./memes/tinder/\")\n",
    "X_loli = make_images(\"./memes/anime/\")\n",
    "X_surr = make_images(\"./memes/surreal/\")\n",
    "X_winx = make_images(\"./memes/winx/\")"
   ]
  },
  {
   "cell_type": "code",
   "execution_count": 5,
   "metadata": {},
   "outputs": [
    {
     "name": "stdout",
     "output_type": "stream",
     "text": [
      "(829,) (435,) (334,) (723,) (1000,)\n"
     ]
    }
   ],
   "source": [
    "Y_cats = np.zeros(X_cats.shape[0])\n",
    "Y_tind = np.ones(X_tind.shape[0])\n",
    "Y_loli = np.full((X_loli.shape[0]), 2)\n",
    "Y_surr = np.full((X_surr.shape[0]), 3)\n",
    "Y_winx = np.full((X_winx.shape[0]), 4)\n",
    "print(Y_cats.shape, Y_tind.shape, Y_loli.shape, Y_surr.shape, Y_winx.shape)"
   ]
  },
  {
   "cell_type": "code",
   "execution_count": 6,
   "metadata": {},
   "outputs": [
    {
     "name": "stdout",
     "output_type": "stream",
     "text": [
      "(3321, 200, 200, 3) (3321,)\n"
     ]
    }
   ],
   "source": [
    "X = np.concatenate((X_cats, X_tind, X_loli, X_surr, X_winx))\n",
    "Y = np.concatenate((Y_cats, Y_tind, Y_loli, Y_surr, Y_winx))\n",
    "print(X.shape, Y.shape)"
   ]
  },
  {
   "cell_type": "code",
   "execution_count": null,
   "metadata": {},
   "outputs": [],
   "source": [
    "X1 = []\n",
    "i = 0\n",
    "for image in tqdm.tqdm(X):\n",
    "    X1.append([])\n",
    "    for row in image:\n",
    "        for col in row:\n",
    "            X1[i].append(col[0])\n",
    "            X1[i].append(col[1])\n",
    "            X1[i].append(col[2])\n",
    "    i += 1"
   ]
  },
  {
   "cell_type": "code",
   "execution_count": null,
   "metadata": {},
   "outputs": [],
   "source": [
    "X = np.array(X1)"
   ]
  },
  {
   "cell_type": "code",
   "execution_count": 26,
   "metadata": {
    "scrolled": false
   },
   "outputs": [
    {
     "name": "stdout",
     "output_type": "stream",
     "text": [
      "100\n",
      "200\n",
      "300\n",
      "400\n",
      "500\n",
      "600\n",
      "700\n",
      "800\n",
      "900\n",
      "1000\n",
      "1100\n",
      "1200\n",
      "1300\n",
      "1400\n",
      "1500\n",
      "1600\n",
      "1700\n",
      "1800\n",
      "1900\n",
      "2000\n",
      "2100\n",
      "2200\n",
      "2300\n",
      "2400\n",
      "2500\n",
      "2600\n",
      "2700\n",
      "2800\n",
      "2900\n",
      "3000\n",
      "3100\n",
      "3200\n",
      "3300\n"
     ]
    }
   ],
   "source": [
    "\n",
    "i = 0\n",
    "for image in tqdm.tqdm(X):\n",
    "    f = open(\"./images/\"+ str(i) +\".txt\", \"w\")\n",
    "    for row in image:\n",
    "        for col in row:\n",
    "            f.write(str(col[0]) + \"\\n\")\n",
    "            f.write(str(col[1]) + \"\\n\")\n",
    "            f.write(str(col[2]) + \"\\n\")\n",
    "    i += 1\n",
    "    if (i%100)==0:\n",
    "        print(i)\n",
    "             "
   ]
  },
  {
   "cell_type": "code",
   "execution_count": 6,
   "metadata": {},
   "outputs": [
    {
     "name": "stderr",
     "output_type": "stream",
     "text": [
      "\n",
      "  0%|          | 0/3321 [00:00<?, ?it/s]\n",
      "  0%|          | 1/3321 [00:00<05:56,  9.31it/s]\n",
      "  0%|          | 2/3321 [00:00<05:53,  9.40it/s]\n",
      "  0%|          | 4/3321 [00:00<05:43,  9.66it/s]\n",
      "  0%|          | 6/3321 [00:00<05:42,  9.67it/s]\n",
      "  0%|          | 7/3321 [00:00<05:47,  9.53it/s]\n",
      "  0%|          | 9/3321 [00:00<05:27, 10.10it/s]\n",
      "  0%|          | 10/3321 [00:01<05:54,  9.34it/s]\n",
      "  0%|          | 11/3321 [00:01<05:52,  9.40it/s]\n",
      "  0%|          | 12/3321 [00:01<06:26,  8.56it/s]\n",
      "  0%|          | 13/3321 [00:01<06:20,  8.70it/s]\n",
      "  0%|          | 15/3321 [00:01<06:12,  8.87it/s]\n",
      "  0%|          | 16/3321 [00:01<06:12,  8.88it/s]"
     ]
    },
    {
     "ename": "KeyboardInterrupt",
     "evalue": "",
     "output_type": "error",
     "traceback": [
      "\u001b[1;31m---------------------------------------------------------------------------\u001b[0m",
      "\u001b[1;31mKeyboardInterrupt\u001b[0m                         Traceback (most recent call last)",
      "\u001b[1;32m<ipython-input-6-0cfa3836d224>\u001b[0m in \u001b[0;36m<module>\u001b[1;34m\u001b[0m\n\u001b[0;32m     11\u001b[0m     \u001b[1;32mfor\u001b[0m \u001b[0mline\u001b[0m \u001b[1;32min\u001b[0m \u001b[0mim\u001b[0m\u001b[1;33m:\u001b[0m\u001b[1;33m\u001b[0m\u001b[1;33m\u001b[0m\u001b[0m\n\u001b[0;32m     12\u001b[0m         \u001b[1;32mif\u001b[0m\u001b[1;33m(\u001b[0m\u001b[0mline\u001b[0m \u001b[1;33m!=\u001b[0m \u001b[1;34m\"\"\u001b[0m\u001b[1;33m)\u001b[0m\u001b[1;33m:\u001b[0m\u001b[1;33m\u001b[0m\u001b[1;33m\u001b[0m\u001b[0m\n\u001b[1;32m---> 13\u001b[1;33m             \u001b[0mX1\u001b[0m\u001b[1;33m[\u001b[0m\u001b[0mi\u001b[0m\u001b[1;33m]\u001b[0m\u001b[1;33m.\u001b[0m\u001b[0mappend\u001b[0m\u001b[1;33m(\u001b[0m\u001b[0mfloat\u001b[0m\u001b[1;33m(\u001b[0m\u001b[0mline\u001b[0m\u001b[1;33m)\u001b[0m\u001b[1;33m)\u001b[0m\u001b[1;33m\u001b[0m\u001b[1;33m\u001b[0m\u001b[0m\n\u001b[0m\u001b[0;32m     14\u001b[0m     \u001b[0mi\u001b[0m \u001b[1;33m+=\u001b[0m \u001b[1;36m1\u001b[0m\u001b[1;33m\u001b[0m\u001b[1;33m\u001b[0m\u001b[0m\n\u001b[0;32m     15\u001b[0m     \u001b[1;32mif\u001b[0m \u001b[1;33m(\u001b[0m\u001b[0mi\u001b[0m\u001b[1;33m%\u001b[0m\u001b[1;36m100\u001b[0m\u001b[1;33m)\u001b[0m\u001b[1;33m==\u001b[0m\u001b[1;36m0\u001b[0m\u001b[1;33m:\u001b[0m\u001b[1;33m\u001b[0m\u001b[1;33m\u001b[0m\u001b[0m\n",
      "\u001b[1;31mKeyboardInterrupt\u001b[0m: "
     ]
    }
   ],
   "source": [
    "X1 = []\n",
    "i = 0\n",
    "\n",
    "names = os.listdir(\"./images/\")\n",
    "paths = list(map(lambda fname: os.path.join(\"./images/\",fname),names))\n",
    "\n",
    "for path in tqdm.tqdm(paths):\n",
    "    X1.append([])\n",
    "    f = open(path, \"r\")\n",
    "    im = f.read().split(\"\\n\")\n",
    "    for line in im:\n",
    "        if(line != \"\"):\n",
    "            X1[i].append(float(line))\n",
    "    i += 1\n",
    "    if (i%100)==0:\n",
    "        print(i)"
   ]
  },
  {
   "cell_type": "code",
   "execution_count": null,
   "metadata": {},
   "outputs": [],
   "source": [
    "X = np.array(X1)"
   ]
  },
  {
   "cell_type": "code",
   "execution_count": 8,
   "metadata": {},
   "outputs": [
    {
     "data": {
      "text/plain": [
       "((3321, 200, 200, 3), (3321,))"
      ]
     },
     "execution_count": 8,
     "metadata": {},
     "output_type": "execute_result"
    }
   ],
   "source": [
    "X.shape, Y.shape"
   ]
  },
  {
   "cell_type": "code",
   "execution_count": 8,
   "metadata": {},
   "outputs": [],
   "source": [
    "from sklearn.model_selection import train_test_split\n",
    "\n",
    "np.random.seed(len(X))\n",
    "X_train, X_test, Y_train, Y_test = train_test_split(X, Y, test_size=0.2)"
   ]
  },
  {
   "cell_type": "code",
   "execution_count": 9,
   "metadata": {},
   "outputs": [
    {
     "data": {
      "text/plain": [
       "((1011, 120000), (1011,), (253, 120000), (253,))"
      ]
     },
     "execution_count": 9,
     "metadata": {},
     "output_type": "execute_result"
    }
   ],
   "source": [
    "X_train.shape, Y_train.shape, X_test.shape, Y_test.shape"
   ]
  },
  {
   "cell_type": "code",
   "execution_count": 10,
   "metadata": {},
   "outputs": [],
   "source": [
    "from sklearn.ensemble import GradientBoostingClassifier\n",
    "from sklearn.metrics import accuracy_score, roc_auc_score"
   ]
  },
  {
   "cell_type": "code",
   "execution_count": 11,
   "metadata": {},
   "outputs": [],
   "source": [
    "grb = GradientBoostingClassifier().fit(X_train,Y_train)\n",
    "\n",
    "y_grb = grb.predict(X_test)"
   ]
  },
  {
   "cell_type": "code",
   "execution_count": 12,
   "metadata": {},
   "outputs": [
    {
     "name": "stdout",
     "output_type": "stream",
     "text": [
      "accuracy 0.9802371541501976\n",
      "roc auc  0.9782422646477945\n"
     ]
    }
   ],
   "source": [
    "print(\"accuracy\", accuracy_score(Y_test, y_grb))\n",
    "print(\"roc auc \", roc_auc_score(Y_test, y_grb))"
   ]
  },
  {
   "cell_type": "code",
   "execution_count": null,
   "metadata": {},
   "outputs": [],
   "source": []
  }
 ],
 "metadata": {
  "kernelspec": {
   "display_name": "Python 3",
   "language": "python",
   "name": "python3"
  },
  "language_info": {
   "codemirror_mode": {
    "name": "ipython",
    "version": 3
   },
   "file_extension": ".py",
   "mimetype": "text/x-python",
   "name": "python",
   "nbconvert_exporter": "python",
   "pygments_lexer": "ipython3",
   "version": "3.6.6"
  }
 },
 "nbformat": 4,
 "nbformat_minor": 2
}
